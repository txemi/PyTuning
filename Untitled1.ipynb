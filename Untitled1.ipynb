{
  "nbformat": 4,
  "nbformat_minor": 0,
  "metadata": {
    "colab": {
      "provenance": [],
      "authorship_tag": "ABX9TyPBe/u5D6tzYl0umi21EJXW",
      "include_colab_link": true
    },
    "kernelspec": {
      "name": "python3",
      "display_name": "Python 3"
    },
    "language_info": {
      "name": "python"
    }
  },
  "cells": [
    {
      "cell_type": "markdown",
      "metadata": {
        "id": "view-in-github",
        "colab_type": "text"
      },
      "source": [
        "<a href=\"https://colab.research.google.com/github/txemi/PyTuning/blob/master/Untitled1.ipynb\" target=\"_parent\"><img src=\"https://colab.research.google.com/assets/colab-badge.svg\" alt=\"Open In Colab\"/></a>"
      ]
    },
    {
      "cell_type": "code",
      "execution_count": 7,
      "metadata": {
        "id": "4ulsZ-aPFqfG"
      },
      "outputs": [],
      "source": [
        "a=5\n",
        "b=8"
      ]
    },
    {
      "cell_type": "markdown",
      "source": [
        "ahora un texto"
      ],
      "metadata": {
        "id": "pwfdiQQXFuIW"
      }
    },
    {
      "cell_type": "code",
      "source": [
        "c=a+b\n"
      ],
      "metadata": {
        "id": "EYvmP7fNFwLw"
      },
      "execution_count": 8,
      "outputs": []
    },
    {
      "cell_type": "code",
      "source": [
        "c\n"
      ],
      "metadata": {
        "colab": {
          "base_uri": "https://localhost:8080/"
        },
        "id": "y3nxSKKwI3tC",
        "outputId": "57a17519-b251-4bba-a407-9103c3d105f8"
      },
      "execution_count": 9,
      "outputs": [
        {
          "output_type": "execute_result",
          "data": {
            "text/plain": [
              "13"
            ]
          },
          "metadata": {},
          "execution_count": 9
        }
      ]
    },
    {
      "cell_type": "markdown",
      "source": [
        "# Nueva sección"
      ],
      "metadata": {
        "id": "kD59V_G8K01n"
      }
    }
  ]
}